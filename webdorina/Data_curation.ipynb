{
 "cells": [
  {
   "cell_type": "code",
   "execution_count": 1,
   "metadata": {},
   "outputs": [],
   "source": [
    "import pathlib\n",
    "import pandas as pd\n",
    "import json"
   ]
  },
  {
   "cell_type": "markdown",
   "metadata": {},
   "source": [
    "# Encode e-clip data\n",
    "\n",
    "[eCLIP protocol](https://www.encodeproject.org/documents/dde0b669-0909-4f8b-946d-3cb9f35a6c52/@@download/attachment/eCLIP_analysisSOP_v1.P.pdf)"
   ]
  },
  {
   "cell_type": "code",
   "execution_count": 2,
   "metadata": {},
   "outputs": [],
   "source": [
    "encode_eclip_path = pathlib.Path('/Volumes/biodb/encode')"
   ]
  },
  {
   "cell_type": "code",
   "execution_count": 6,
   "metadata": {},
   "outputs": [],
   "source": [
    "encode_metadata = pd.read_table(encode_eclip_path / 'encode_hg38_clip_peaks/metadata.tsv')"
   ]
  },
  {
   "cell_type": "code",
   "execution_count": 8,
   "metadata": {},
   "outputs": [
    {
     "data": {
      "text/html": [
       "<div>\n",
       "<style scoped>\n",
       "    .dataframe tbody tr th:only-of-type {\n",
       "        vertical-align: middle;\n",
       "    }\n",
       "\n",
       "    .dataframe tbody tr th {\n",
       "        vertical-align: top;\n",
       "    }\n",
       "\n",
       "    .dataframe thead th {\n",
       "        text-align: right;\n",
       "    }\n",
       "</style>\n",
       "<table border=\"1\" class=\"dataframe\">\n",
       "  <thead>\n",
       "    <tr style=\"text-align: right;\">\n",
       "      <th></th>\n",
       "      <th>File accession</th>\n",
       "      <th>File format</th>\n",
       "      <th>Output type</th>\n",
       "      <th>Experiment accession</th>\n",
       "      <th>Assay</th>\n",
       "      <th>Biosample term id</th>\n",
       "      <th>Biosample term name</th>\n",
       "      <th>Biosample type</th>\n",
       "      <th>Biosample life stage</th>\n",
       "      <th>Biosample sex</th>\n",
       "      <th>...</th>\n",
       "      <th>dbxrefs</th>\n",
       "      <th>File download URL</th>\n",
       "      <th>Assembly</th>\n",
       "      <th>Platform</th>\n",
       "      <th>Controlled by</th>\n",
       "      <th>File Status</th>\n",
       "      <th>Audit WARNING</th>\n",
       "      <th>Audit INTERNAL_ACTION</th>\n",
       "      <th>Audit NOT_COMPLIANT</th>\n",
       "      <th>Audit ERROR</th>\n",
       "    </tr>\n",
       "  </thead>\n",
       "  <tbody>\n",
       "    <tr>\n",
       "      <th>0</th>\n",
       "      <td>ENCFF743GIA</td>\n",
       "      <td>bed narrowPeak</td>\n",
       "      <td>peaks</td>\n",
       "      <td>ENCSR867DSZ</td>\n",
       "      <td>eCLIP</td>\n",
       "      <td>EFO:0002067</td>\n",
       "      <td>K562</td>\n",
       "      <td>immortalized cell line</td>\n",
       "      <td>adult</td>\n",
       "      <td>female</td>\n",
       "      <td>...</td>\n",
       "      <td>NaN</td>\n",
       "      <td>https://www.encodeproject.org/files/ENCFF743GI...</td>\n",
       "      <td>hg19</td>\n",
       "      <td>NaN</td>\n",
       "      <td>NaN</td>\n",
       "      <td>released</td>\n",
       "      <td>NaN</td>\n",
       "      <td>NaN</td>\n",
       "      <td>NaN</td>\n",
       "      <td>NaN</td>\n",
       "    </tr>\n",
       "    <tr>\n",
       "      <th>1</th>\n",
       "      <td>ENCFF392QAQ</td>\n",
       "      <td>bed narrowPeak</td>\n",
       "      <td>peaks</td>\n",
       "      <td>ENCSR867DSZ</td>\n",
       "      <td>eCLIP</td>\n",
       "      <td>EFO:0002067</td>\n",
       "      <td>K562</td>\n",
       "      <td>immortalized cell line</td>\n",
       "      <td>adult</td>\n",
       "      <td>female</td>\n",
       "      <td>...</td>\n",
       "      <td>NaN</td>\n",
       "      <td>https://www.encodeproject.org/files/ENCFF392QA...</td>\n",
       "      <td>hg19</td>\n",
       "      <td>NaN</td>\n",
       "      <td>NaN</td>\n",
       "      <td>released</td>\n",
       "      <td>NaN</td>\n",
       "      <td>NaN</td>\n",
       "      <td>NaN</td>\n",
       "      <td>NaN</td>\n",
       "    </tr>\n",
       "    <tr>\n",
       "      <th>2</th>\n",
       "      <td>ENCFF177GMP</td>\n",
       "      <td>bed narrowPeak</td>\n",
       "      <td>peaks</td>\n",
       "      <td>ENCSR867DSZ</td>\n",
       "      <td>eCLIP</td>\n",
       "      <td>EFO:0002067</td>\n",
       "      <td>K562</td>\n",
       "      <td>immortalized cell line</td>\n",
       "      <td>adult</td>\n",
       "      <td>female</td>\n",
       "      <td>...</td>\n",
       "      <td>NaN</td>\n",
       "      <td>https://www.encodeproject.org/files/ENCFF177GM...</td>\n",
       "      <td>GRCh38</td>\n",
       "      <td>NaN</td>\n",
       "      <td>NaN</td>\n",
       "      <td>released</td>\n",
       "      <td>NaN</td>\n",
       "      <td>NaN</td>\n",
       "      <td>NaN</td>\n",
       "      <td>NaN</td>\n",
       "    </tr>\n",
       "    <tr>\n",
       "      <th>3</th>\n",
       "      <td>ENCFF669BCV</td>\n",
       "      <td>bed narrowPeak</td>\n",
       "      <td>peaks</td>\n",
       "      <td>ENCSR867DSZ</td>\n",
       "      <td>eCLIP</td>\n",
       "      <td>EFO:0002067</td>\n",
       "      <td>K562</td>\n",
       "      <td>immortalized cell line</td>\n",
       "      <td>adult</td>\n",
       "      <td>female</td>\n",
       "      <td>...</td>\n",
       "      <td>NaN</td>\n",
       "      <td>https://www.encodeproject.org/files/ENCFF669BC...</td>\n",
       "      <td>GRCh38</td>\n",
       "      <td>NaN</td>\n",
       "      <td>NaN</td>\n",
       "      <td>released</td>\n",
       "      <td>NaN</td>\n",
       "      <td>NaN</td>\n",
       "      <td>NaN</td>\n",
       "      <td>NaN</td>\n",
       "    </tr>\n",
       "    <tr>\n",
       "      <th>4</th>\n",
       "      <td>ENCFF774EDY</td>\n",
       "      <td>bed narrowPeak</td>\n",
       "      <td>peaks</td>\n",
       "      <td>ENCSR513NDD</td>\n",
       "      <td>eCLIP</td>\n",
       "      <td>EFO:0001187</td>\n",
       "      <td>HepG2</td>\n",
       "      <td>immortalized cell line</td>\n",
       "      <td>child</td>\n",
       "      <td>male</td>\n",
       "      <td>...</td>\n",
       "      <td>NaN</td>\n",
       "      <td>https://www.encodeproject.org/files/ENCFF774ED...</td>\n",
       "      <td>hg19</td>\n",
       "      <td>NaN</td>\n",
       "      <td>NaN</td>\n",
       "      <td>released</td>\n",
       "      <td>NaN</td>\n",
       "      <td>NaN</td>\n",
       "      <td>NaN</td>\n",
       "      <td>NaN</td>\n",
       "    </tr>\n",
       "  </tbody>\n",
       "</table>\n",
       "<p>5 rows × 50 columns</p>\n",
       "</div>"
      ],
      "text/plain": [
       "  File accession     File format Output type Experiment accession  Assay  \\\n",
       "0    ENCFF743GIA  bed narrowPeak       peaks          ENCSR867DSZ  eCLIP   \n",
       "1    ENCFF392QAQ  bed narrowPeak       peaks          ENCSR867DSZ  eCLIP   \n",
       "2    ENCFF177GMP  bed narrowPeak       peaks          ENCSR867DSZ  eCLIP   \n",
       "3    ENCFF669BCV  bed narrowPeak       peaks          ENCSR867DSZ  eCLIP   \n",
       "4    ENCFF774EDY  bed narrowPeak       peaks          ENCSR513NDD  eCLIP   \n",
       "\n",
       "  Biosample term id Biosample term name          Biosample type  \\\n",
       "0       EFO:0002067                K562  immortalized cell line   \n",
       "1       EFO:0002067                K562  immortalized cell line   \n",
       "2       EFO:0002067                K562  immortalized cell line   \n",
       "3       EFO:0002067                K562  immortalized cell line   \n",
       "4       EFO:0001187               HepG2  immortalized cell line   \n",
       "\n",
       "  Biosample life stage Biosample sex     ...      dbxrefs  \\\n",
       "0                adult        female     ...          NaN   \n",
       "1                adult        female     ...          NaN   \n",
       "2                adult        female     ...          NaN   \n",
       "3                adult        female     ...          NaN   \n",
       "4                child          male     ...          NaN   \n",
       "\n",
       "                                   File download URL  Assembly  Platform  \\\n",
       "0  https://www.encodeproject.org/files/ENCFF743GI...      hg19       NaN   \n",
       "1  https://www.encodeproject.org/files/ENCFF392QA...      hg19       NaN   \n",
       "2  https://www.encodeproject.org/files/ENCFF177GM...    GRCh38       NaN   \n",
       "3  https://www.encodeproject.org/files/ENCFF669BC...    GRCh38       NaN   \n",
       "4  https://www.encodeproject.org/files/ENCFF774ED...      hg19       NaN   \n",
       "\n",
       "   Controlled by  File Status Audit WARNING Audit INTERNAL_ACTION  \\\n",
       "0            NaN     released           NaN                   NaN   \n",
       "1            NaN     released           NaN                   NaN   \n",
       "2            NaN     released           NaN                   NaN   \n",
       "3            NaN     released           NaN                   NaN   \n",
       "4            NaN     released           NaN                   NaN   \n",
       "\n",
       "  Audit NOT_COMPLIANT  Audit ERROR  \n",
       "0                 NaN          NaN  \n",
       "1                 NaN          NaN  \n",
       "2                 NaN          NaN  \n",
       "3                 NaN          NaN  \n",
       "4                 NaN          NaN  \n",
       "\n",
       "[5 rows x 50 columns]"
      ]
     },
     "execution_count": 8,
     "metadata": {},
     "output_type": "execute_result"
    }
   ],
   "source": [
    "encode_metadata.head()"
   ]
  },
  {
   "cell_type": "code",
   "execution_count": 9,
   "metadata": {},
   "outputs": [
    {
     "data": {
      "text/plain": [
       "70"
      ]
     },
     "execution_count": 9,
     "metadata": {},
     "output_type": "execute_result"
    }
   ],
   "source": [
    "len(list(pathlib.Path('/Volumes/biodb/encode/encode_hg38_clip_peaks/HepG2/combined').glob('*.bed')))"
   ]
  },
  {
   "cell_type": "code",
   "execution_count": 10,
   "metadata": {},
   "outputs": [],
   "source": [
    "template = {\n",
    "    'description': 'encode eClip data.',\n",
    "     'experiment': 'eClip',\n",
    "     'id': 'eClip_all',\n",
    "     'methods': '',\n",
    "     'references': 'Nostrand E, et al. bioRxiv 179648; doi: https://doi.org/10.1101/179648.',\n",
    "     'summary': 'all combined eClip sites from K562 and HepG2.'\n",
    "}"
   ]
  },
  {
   "cell_type": "code",
   "execution_count": 22,
   "metadata": {},
   "outputs": [],
   "source": [
    "from itertools import chain"
   ]
  },
  {
   "cell_type": "code",
   "execution_count": 23,
   "metadata": {},
   "outputs": [
    {
     "name": "stdout",
     "output_type": "stream",
     "text": [
      "\u001b[34mHepG2\u001b[m\u001b[m        \u001b[34mK562\u001b[m\u001b[m         \u001b[31mmetadata.tsv\u001b[m\u001b[m\n"
     ]
    }
   ],
   "source": [
    "!ls /Volumes/biodb/encode/encode_hg38_clip_peaks/"
   ]
  },
  {
   "cell_type": "code",
   "execution_count": 42,
   "metadata": {},
   "outputs": [],
   "source": [
    "encode_HepG2_path = pathlib.Path('/Volumes/biodb/encode/encode_hg38_clip_peaks/HepG2/combined')\n",
    "encode_K562_path = pathlib.Path('/Volumes/biodb/encode/encode_hg38_clip_peaks/K562/combined')\n",
    "col_names = [\"chrom\",\"start\",\"end\",\"name\",\"score\",\"strand\",\"signal_value\",\"-log10(pValue)\",\"-log10(qvalue)\",\"peak\"]\n",
    "\n",
    "dest = pathlib.Path('/Volumes/prj/dorina2/regulators/h_sapiens/hg38/')\n",
    "for f in chain(encode_HepG2_path.glob('*.bed'), encode_K562_path.glob('*.bed')):\n",
    "    tmp_template = template.copy()\n",
    "    tmp_template['id'] =  'eClip_' +  f.stem[:f.stem.rfind('_')] + 'Encode'\n",
    "    name = pathlib.Path('eClip_' + f.stem.replace('combined', '') + 'hg38')\n",
    "    \n",
    "    x = pd.read_table(f, names=col_names)\n",
    "    x['.'] = '.'\n",
    "    x['name'] = tmp_template['id']\n",
    "    \n",
    "    tmp_template['summary'] = \"{} peaks for targets of {} in {} cells.\".format(\n",
    "        x.shape[0], f.stem.split('_')[0], f.stem.split('_')[1])\n",
    "    \n",
    "    x[[\"chrom\", \"start\", \"end\", \"name\", \".\", \"strand\"]].to_csv(\n",
    "        dest / name.with_suffix('.bed'), index=None, header=None, sep=\"\\t\")\n",
    "    \n",
    "    with open(dest / name.with_suffix('.json'), 'w') as fout:\n",
    "        json.dump([tmp_template], fout, indent=True)"
   ]
  },
  {
   "cell_type": "code",
   "execution_count": 36,
   "metadata": {},
   "outputs": [],
   "source": [
    "with open('/Volumes/prj/dorina2/regulators/m_musculus/mm10/HITSCLIP_Ago2Leung2011b_mm9.json') as f:\n",
    "    x=json.load(f)"
   ]
  },
  {
   "cell_type": "code",
   "execution_count": 41,
   "metadata": {},
   "outputs": [
    {
     "data": {
      "text/plain": [
       "{'description': 'encode eClip data.',\n",
       " 'experiment': 'eClip',\n",
       " 'id': 'eClip_IGF2BP2_K562Encode',\n",
       " 'methods': '',\n",
       " 'references': 'Nostrand E, et al. bioRxiv 179648; doi: https://doi.org/10.1101/179648.',\n",
       " 'summary': '211519 peaks for targets of IGF2BP2 in K562 cells.'}"
      ]
     },
     "execution_count": 41,
     "metadata": {},
     "output_type": "execute_result"
    }
   ],
   "source": [
    "tmp_template"
   ]
  },
  {
   "cell_type": "code",
   "execution_count": 43,
   "metadata": {},
   "outputs": [
    {
     "data": {
      "text/plain": [
       "'eClip_IGF2BP2_K562Encode'"
      ]
     },
     "execution_count": 43,
     "metadata": {},
     "output_type": "execute_result"
    }
   ],
   "source": [
    "tmp_template['id']"
   ]
  },
  {
   "cell_type": "code",
   "execution_count": 44,
   "metadata": {},
   "outputs": [
    {
     "data": {
      "text/plain": [
       "0         eClip_IGF2BP2_K562Encode\n",
       "1         eClip_IGF2BP2_K562Encode\n",
       "2         eClip_IGF2BP2_K562Encode\n",
       "3         eClip_IGF2BP2_K562Encode\n",
       "4         eClip_IGF2BP2_K562Encode\n",
       "5         eClip_IGF2BP2_K562Encode\n",
       "6         eClip_IGF2BP2_K562Encode\n",
       "7         eClip_IGF2BP2_K562Encode\n",
       "8         eClip_IGF2BP2_K562Encode\n",
       "9         eClip_IGF2BP2_K562Encode\n",
       "10        eClip_IGF2BP2_K562Encode\n",
       "11        eClip_IGF2BP2_K562Encode\n",
       "12        eClip_IGF2BP2_K562Encode\n",
       "13        eClip_IGF2BP2_K562Encode\n",
       "14        eClip_IGF2BP2_K562Encode\n",
       "15        eClip_IGF2BP2_K562Encode\n",
       "16        eClip_IGF2BP2_K562Encode\n",
       "17        eClip_IGF2BP2_K562Encode\n",
       "18        eClip_IGF2BP2_K562Encode\n",
       "19        eClip_IGF2BP2_K562Encode\n",
       "20        eClip_IGF2BP2_K562Encode\n",
       "21        eClip_IGF2BP2_K562Encode\n",
       "22        eClip_IGF2BP2_K562Encode\n",
       "23        eClip_IGF2BP2_K562Encode\n",
       "24        eClip_IGF2BP2_K562Encode\n",
       "25        eClip_IGF2BP2_K562Encode\n",
       "26        eClip_IGF2BP2_K562Encode\n",
       "27        eClip_IGF2BP2_K562Encode\n",
       "28        eClip_IGF2BP2_K562Encode\n",
       "29        eClip_IGF2BP2_K562Encode\n",
       "                    ...           \n",
       "211489    eClip_IGF2BP2_K562Encode\n",
       "211490    eClip_IGF2BP2_K562Encode\n",
       "211491    eClip_IGF2BP2_K562Encode\n",
       "211492    eClip_IGF2BP2_K562Encode\n",
       "211493    eClip_IGF2BP2_K562Encode\n",
       "211494    eClip_IGF2BP2_K562Encode\n",
       "211495    eClip_IGF2BP2_K562Encode\n",
       "211496    eClip_IGF2BP2_K562Encode\n",
       "211497    eClip_IGF2BP2_K562Encode\n",
       "211498    eClip_IGF2BP2_K562Encode\n",
       "211499    eClip_IGF2BP2_K562Encode\n",
       "211500    eClip_IGF2BP2_K562Encode\n",
       "211501    eClip_IGF2BP2_K562Encode\n",
       "211502    eClip_IGF2BP2_K562Encode\n",
       "211503    eClip_IGF2BP2_K562Encode\n",
       "211504    eClip_IGF2BP2_K562Encode\n",
       "211505    eClip_IGF2BP2_K562Encode\n",
       "211506    eClip_IGF2BP2_K562Encode\n",
       "211507    eClip_IGF2BP2_K562Encode\n",
       "211508    eClip_IGF2BP2_K562Encode\n",
       "211509    eClip_IGF2BP2_K562Encode\n",
       "211510    eClip_IGF2BP2_K562Encode\n",
       "211511    eClip_IGF2BP2_K562Encode\n",
       "211512    eClip_IGF2BP2_K562Encode\n",
       "211513    eClip_IGF2BP2_K562Encode\n",
       "211514    eClip_IGF2BP2_K562Encode\n",
       "211515    eClip_IGF2BP2_K562Encode\n",
       "211516    eClip_IGF2BP2_K562Encode\n",
       "211517    eClip_IGF2BP2_K562Encode\n",
       "211518    eClip_IGF2BP2_K562Encode\n",
       "Name: name, Length: 211519, dtype: object"
      ]
     },
     "execution_count": 44,
     "metadata": {},
     "output_type": "execute_result"
    }
   ],
   "source": [
    "x['name']"
   ]
  },
  {
   "cell_type": "code",
   "execution_count": null,
   "metadata": {},
   "outputs": [],
   "source": []
  }
 ],
 "metadata": {
  "kernelspec": {
   "display_name": "Python 3",
   "language": "python",
   "name": "python3"
  },
  "language_info": {
   "codemirror_mode": {
    "name": "ipython",
    "version": 3
   },
   "file_extension": ".py",
   "mimetype": "text/x-python",
   "name": "python",
   "nbconvert_exporter": "python",
   "pygments_lexer": "ipython3",
   "version": "3.6.3"
  }
 },
 "nbformat": 4,
 "nbformat_minor": 2
}
