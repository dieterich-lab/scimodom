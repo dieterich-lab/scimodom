{
 "cells": [
  {
   "cell_type": "code",
   "execution_count": 29,
   "metadata": {},
   "outputs": [],
   "source": [
    "import pathlib\n",
    "import pandas as pd\n",
    "import json"
   ]
  },
  {
   "cell_type": "markdown",
   "metadata": {},
   "source": [
    "# Encode e-clip data\n",
    "\n",
    "[eCLIP protocol](https://www.encodeproject.org/documents/dde0b669-0909-4f8b-946d-3cb9f35a6c52/@@download/attachment/eCLIP_analysisSOP_v1.P.pdf)"
   ]
  },
  {
   "cell_type": "code",
   "execution_count": 5,
   "metadata": {},
   "outputs": [],
   "source": [
    "encode_eclip_path = pathlib.Path('/Volumes/biodb/encode')"
   ]
  },
  {
   "cell_type": "code",
   "execution_count": 7,
   "metadata": {},
   "outputs": [],
   "source": [
    "encode_metadata = pd.read_table(encode_eclip_path / 'encode_hg38_clip_peaks/metadata.tsv')"
   ]
  },
  {
   "cell_type": "code",
   "execution_count": 16,
   "metadata": {},
   "outputs": [
    {
     "data": {
      "text/html": [
       "<div>\n",
       "<style scoped>\n",
       "    .dataframe tbody tr th:only-of-type {\n",
       "        vertical-align: middle;\n",
       "    }\n",
       "\n",
       "    .dataframe tbody tr th {\n",
       "        vertical-align: top;\n",
       "    }\n",
       "\n",
       "    .dataframe thead th {\n",
       "        text-align: right;\n",
       "    }\n",
       "</style>\n",
       "<table border=\"1\" class=\"dataframe\">\n",
       "  <thead>\n",
       "    <tr style=\"text-align: right;\">\n",
       "      <th></th>\n",
       "      <th>File accession</th>\n",
       "      <th>File format</th>\n",
       "      <th>Output type</th>\n",
       "      <th>Experiment accession</th>\n",
       "      <th>Assay</th>\n",
       "      <th>Biosample term id</th>\n",
       "      <th>Biosample term name</th>\n",
       "      <th>Biosample type</th>\n",
       "      <th>Biosample life stage</th>\n",
       "      <th>Biosample sex</th>\n",
       "      <th>...</th>\n",
       "      <th>dbxrefs</th>\n",
       "      <th>File download URL</th>\n",
       "      <th>Assembly</th>\n",
       "      <th>Platform</th>\n",
       "      <th>Controlled by</th>\n",
       "      <th>File Status</th>\n",
       "      <th>Audit WARNING</th>\n",
       "      <th>Audit INTERNAL_ACTION</th>\n",
       "      <th>Audit NOT_COMPLIANT</th>\n",
       "      <th>Audit ERROR</th>\n",
       "    </tr>\n",
       "  </thead>\n",
       "  <tbody>\n",
       "    <tr>\n",
       "      <th>0</th>\n",
       "      <td>ENCFF743GIA</td>\n",
       "      <td>bed narrowPeak</td>\n",
       "      <td>peaks</td>\n",
       "      <td>ENCSR867DSZ</td>\n",
       "      <td>eCLIP</td>\n",
       "      <td>EFO:0002067</td>\n",
       "      <td>K562</td>\n",
       "      <td>immortalized cell line</td>\n",
       "      <td>adult</td>\n",
       "      <td>female</td>\n",
       "      <td>...</td>\n",
       "      <td>NaN</td>\n",
       "      <td>https://www.encodeproject.org/files/ENCFF743GI...</td>\n",
       "      <td>hg19</td>\n",
       "      <td>NaN</td>\n",
       "      <td>NaN</td>\n",
       "      <td>released</td>\n",
       "      <td>NaN</td>\n",
       "      <td>NaN</td>\n",
       "      <td>NaN</td>\n",
       "      <td>NaN</td>\n",
       "    </tr>\n",
       "    <tr>\n",
       "      <th>1</th>\n",
       "      <td>ENCFF392QAQ</td>\n",
       "      <td>bed narrowPeak</td>\n",
       "      <td>peaks</td>\n",
       "      <td>ENCSR867DSZ</td>\n",
       "      <td>eCLIP</td>\n",
       "      <td>EFO:0002067</td>\n",
       "      <td>K562</td>\n",
       "      <td>immortalized cell line</td>\n",
       "      <td>adult</td>\n",
       "      <td>female</td>\n",
       "      <td>...</td>\n",
       "      <td>NaN</td>\n",
       "      <td>https://www.encodeproject.org/files/ENCFF392QA...</td>\n",
       "      <td>hg19</td>\n",
       "      <td>NaN</td>\n",
       "      <td>NaN</td>\n",
       "      <td>released</td>\n",
       "      <td>NaN</td>\n",
       "      <td>NaN</td>\n",
       "      <td>NaN</td>\n",
       "      <td>NaN</td>\n",
       "    </tr>\n",
       "    <tr>\n",
       "      <th>2</th>\n",
       "      <td>ENCFF177GMP</td>\n",
       "      <td>bed narrowPeak</td>\n",
       "      <td>peaks</td>\n",
       "      <td>ENCSR867DSZ</td>\n",
       "      <td>eCLIP</td>\n",
       "      <td>EFO:0002067</td>\n",
       "      <td>K562</td>\n",
       "      <td>immortalized cell line</td>\n",
       "      <td>adult</td>\n",
       "      <td>female</td>\n",
       "      <td>...</td>\n",
       "      <td>NaN</td>\n",
       "      <td>https://www.encodeproject.org/files/ENCFF177GM...</td>\n",
       "      <td>GRCh38</td>\n",
       "      <td>NaN</td>\n",
       "      <td>NaN</td>\n",
       "      <td>released</td>\n",
       "      <td>NaN</td>\n",
       "      <td>NaN</td>\n",
       "      <td>NaN</td>\n",
       "      <td>NaN</td>\n",
       "    </tr>\n",
       "    <tr>\n",
       "      <th>3</th>\n",
       "      <td>ENCFF669BCV</td>\n",
       "      <td>bed narrowPeak</td>\n",
       "      <td>peaks</td>\n",
       "      <td>ENCSR867DSZ</td>\n",
       "      <td>eCLIP</td>\n",
       "      <td>EFO:0002067</td>\n",
       "      <td>K562</td>\n",
       "      <td>immortalized cell line</td>\n",
       "      <td>adult</td>\n",
       "      <td>female</td>\n",
       "      <td>...</td>\n",
       "      <td>NaN</td>\n",
       "      <td>https://www.encodeproject.org/files/ENCFF669BC...</td>\n",
       "      <td>GRCh38</td>\n",
       "      <td>NaN</td>\n",
       "      <td>NaN</td>\n",
       "      <td>released</td>\n",
       "      <td>NaN</td>\n",
       "      <td>NaN</td>\n",
       "      <td>NaN</td>\n",
       "      <td>NaN</td>\n",
       "    </tr>\n",
       "    <tr>\n",
       "      <th>4</th>\n",
       "      <td>ENCFF774EDY</td>\n",
       "      <td>bed narrowPeak</td>\n",
       "      <td>peaks</td>\n",
       "      <td>ENCSR513NDD</td>\n",
       "      <td>eCLIP</td>\n",
       "      <td>EFO:0001187</td>\n",
       "      <td>HepG2</td>\n",
       "      <td>immortalized cell line</td>\n",
       "      <td>child</td>\n",
       "      <td>male</td>\n",
       "      <td>...</td>\n",
       "      <td>NaN</td>\n",
       "      <td>https://www.encodeproject.org/files/ENCFF774ED...</td>\n",
       "      <td>hg19</td>\n",
       "      <td>NaN</td>\n",
       "      <td>NaN</td>\n",
       "      <td>released</td>\n",
       "      <td>NaN</td>\n",
       "      <td>NaN</td>\n",
       "      <td>NaN</td>\n",
       "      <td>NaN</td>\n",
       "    </tr>\n",
       "  </tbody>\n",
       "</table>\n",
       "<p>5 rows × 50 columns</p>\n",
       "</div>"
      ],
      "text/plain": [
       "  File accession     File format Output type Experiment accession  Assay  \\\n",
       "0    ENCFF743GIA  bed narrowPeak       peaks          ENCSR867DSZ  eCLIP   \n",
       "1    ENCFF392QAQ  bed narrowPeak       peaks          ENCSR867DSZ  eCLIP   \n",
       "2    ENCFF177GMP  bed narrowPeak       peaks          ENCSR867DSZ  eCLIP   \n",
       "3    ENCFF669BCV  bed narrowPeak       peaks          ENCSR867DSZ  eCLIP   \n",
       "4    ENCFF774EDY  bed narrowPeak       peaks          ENCSR513NDD  eCLIP   \n",
       "\n",
       "  Biosample term id Biosample term name          Biosample type  \\\n",
       "0       EFO:0002067                K562  immortalized cell line   \n",
       "1       EFO:0002067                K562  immortalized cell line   \n",
       "2       EFO:0002067                K562  immortalized cell line   \n",
       "3       EFO:0002067                K562  immortalized cell line   \n",
       "4       EFO:0001187               HepG2  immortalized cell line   \n",
       "\n",
       "  Biosample life stage Biosample sex     ...      dbxrefs  \\\n",
       "0                adult        female     ...          NaN   \n",
       "1                adult        female     ...          NaN   \n",
       "2                adult        female     ...          NaN   \n",
       "3                adult        female     ...          NaN   \n",
       "4                child          male     ...          NaN   \n",
       "\n",
       "                                   File download URL  Assembly  Platform  \\\n",
       "0  https://www.encodeproject.org/files/ENCFF743GI...      hg19       NaN   \n",
       "1  https://www.encodeproject.org/files/ENCFF392QA...      hg19       NaN   \n",
       "2  https://www.encodeproject.org/files/ENCFF177GM...    GRCh38       NaN   \n",
       "3  https://www.encodeproject.org/files/ENCFF669BC...    GRCh38       NaN   \n",
       "4  https://www.encodeproject.org/files/ENCFF774ED...      hg19       NaN   \n",
       "\n",
       "   Controlled by  File Status Audit WARNING Audit INTERNAL_ACTION  \\\n",
       "0            NaN     released           NaN                   NaN   \n",
       "1            NaN     released           NaN                   NaN   \n",
       "2            NaN     released           NaN                   NaN   \n",
       "3            NaN     released           NaN                   NaN   \n",
       "4            NaN     released           NaN                   NaN   \n",
       "\n",
       "  Audit NOT_COMPLIANT  Audit ERROR  \n",
       "0                 NaN          NaN  \n",
       "1                 NaN          NaN  \n",
       "2                 NaN          NaN  \n",
       "3                 NaN          NaN  \n",
       "4                 NaN          NaN  \n",
       "\n",
       "[5 rows x 50 columns]"
      ]
     },
     "execution_count": 16,
     "metadata": {},
     "output_type": "execute_result"
    }
   ],
   "source": [
    "encode_metada.head()"
   ]
  },
  {
   "cell_type": "code",
   "execution_count": 22,
   "metadata": {},
   "outputs": [
    {
     "data": {
      "text/plain": [
       "70"
      ]
     },
     "execution_count": 22,
     "metadata": {},
     "output_type": "execute_result"
    }
   ],
   "source": [
    "len(list(pathlib.Path('/Volumes/biodb/encode/encode_hg38_clip_peaks/HepG2/combined').glob('*.bed')))"
   ]
  },
  {
   "cell_type": "code",
   "execution_count": 31,
   "metadata": {},
   "outputs": [
    {
     "name": "stdout",
     "output_type": "stream",
     "text": [
      "[{'id': 'ICLIP_HNRNPC_hg19', 'experiment': 'ICLIP', 'summary': 'hnRNPC iCLIP (Koenig 2010)', 'description': ' Liftover to hg38 assembly with crossmap.', 'methods': '', 'references': []}]\n"
     ]
    }
   ],
   "source": [
    "with open('/Volumes/prj/dorina2/regulators/h_sapiens/hg38/ICLIP_HNRNPC_hg19.json') as fin:\n",
    "    print(json.load(fin))"
   ]
  },
  {
   "cell_type": "code",
   "execution_count": 36,
   "metadata": {},
   "outputs": [],
   "source": [
    "with open('/Volumes/prj/dorina2/regulators/h_sapiens/hg38/CLASH_mirna_hg19.json') as fin:\n",
    "    x = json.load(fin)"
   ]
  },
  {
   "cell_type": "code",
   "execution_count": 61,
   "metadata": {},
   "outputs": [],
   "source": [
    "eclip_metadata = []\n",
    "\n",
    "template = {\n",
    "    'description': 'encode eClip data.',\n",
    "     'experiment': 'eClip',\n",
    "     'id': 'eClip_all',\n",
    "     'methods': '',\n",
    "     'references': 'Nostrand E, et al. bioRxiv 179648; doi: https://doi.org/10.1101/179648.',\n",
    "     'summary': 'all combined eClip sites from K562 and HepG2.'\n",
    "}\n",
    "eclip_metadata.append(template)"
   ]
  },
  {
   "cell_type": "code",
   "execution_count": 62,
   "metadata": {},
   "outputs": [],
   "source": [
    "encode_eclip_path = pathlib.Path('/Volumes/biodb/encode/encode_hg38_clip_peaks/HepG2/combined')\n",
    "data = []\n",
    "col_names = [\"chrom\",\"start\",\"end\",\"name\",\"score\",\"strand\",\"signal_value\",\"-log10(pValue)\",\"-log10(qvalue)\",\"peak\"]\n",
    "\n",
    "for f in encode_eclip_path.glob('*.bed'):\n",
    "    tmp_template = template.copy()\n",
    "    tmp_template['id'] =  f.stem\n",
    "    \n",
    "    x = pd.read_table(f, names=col_names)\n",
    "    x['.'] = '.'\n",
    "    x['name'] = x['name'] + '|eClip'\n",
    "    data.append(x)\n",
    "    \n",
    "    tmp_template['summary'] = \"{} peaks for targets of {} in {} cells.\".format(\n",
    "        x.shape[0], f.stem.split('_')[0], f.stem.split('_')[1])\n",
    "    eclip_metadata.append(tmp_template)    "
   ]
  },
  {
   "cell_type": "code",
   "execution_count": 64,
   "metadata": {},
   "outputs": [],
   "source": [
    "data = pd.concat(data)"
   ]
  },
  {
   "cell_type": "code",
   "execution_count": 68,
   "metadata": {},
   "outputs": [],
   "source": [
    "data[[\"chrom\", \"start\", \"end\", \"name\", \".\", \"strand\"]].to_csv(\n",
    "    '/Volumes/prj/dorina2/regulators/h_sapiens/hg38/eClip_RBP_hg38.bed', \n",
    "    index=None, header=None, sep=\"\\t\")"
   ]
  },
  {
   "cell_type": "code",
   "execution_count": 71,
   "metadata": {},
   "outputs": [],
   "source": [
    "with open('/Volumes/prj/dorina2/regulators/h_sapiens/hg38/eClip_RBP_hg38.json', 'w') as fout:\n",
    "    json.dump(eclip_metadata, fout, indent=True)"
   ]
  },
  {
   "cell_type": "code",
   "execution_count": null,
   "metadata": {},
   "outputs": [],
   "source": []
  }
 ],
 "metadata": {
  "kernelspec": {
   "display_name": "Python 3",
   "language": "python",
   "name": "python3"
  },
  "language_info": {
   "codemirror_mode": {
    "name": "ipython",
    "version": 3
   },
   "file_extension": ".py",
   "mimetype": "text/x-python",
   "name": "python",
   "nbconvert_exporter": "python",
   "pygments_lexer": "ipython3",
   "version": "3.6.3"
  }
 },
 "nbformat": 4,
 "nbformat_minor": 2
}
